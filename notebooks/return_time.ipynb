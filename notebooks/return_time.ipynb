{
 "cells": [
  {
   "cell_type": "markdown",
   "metadata": {},
   "source": [
    "# Return Time to Boundaries"
   ]
  },
  {
   "cell_type": "code",
   "execution_count": null,
   "metadata": {},
   "outputs": [],
   "source": [
    "import matplotlib.pyplot as plt\n",
    "from src.metrics import return_time_to_boundaries\n",
    "series = [5, 7, 12, 9, 6, 4, 5]\n",
    "lower, upper = 4, 10\n",
    "rt = return_time_to_boundaries(series, lower, upper)\n",
    "plt.plot(series, marker='o')\n",
    "plt.axhspan(lower, upper, color='lightgrey', alpha=0.5)\n",
    "plt.title(f'Return time: {rt}')\n",
    "plt.xlabel('time')\n",
    "plt.ylabel('value')\n",
    "plt.show()\n"
   ]
  }
 ],
 "metadata": {
  "kernelspec": {
   "display_name": "Python 3",
   "language": "python",
   "name": "python3"
  },
  "language_info": {
   "name": "python",
   "version": "3.x"
  }
 },
 "nbformat": 4,
 "nbformat_minor": 2
}
