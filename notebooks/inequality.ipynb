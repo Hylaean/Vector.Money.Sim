{
 "cells": [
  {
   "cell_type": "markdown",
   "metadata": {},
   "source": [
    "# Inequality Index"
   ]
  },
  {
   "cell_type": "code",
   "execution_count": null,
   "metadata": {},
   "outputs": [],
   "source": [
    "import matplotlib.pyplot as plt\n",
    "from src.metrics import inequality_index\n",
    "values = [1, 2, 3, 4, 5]\n",
    "gini = inequality_index(values)\n",
    "plt.bar(range(len(values)), sorted(values))\n",
    "plt.title(f'Gini coefficient: {gini:.2f}')\n",
    "plt.xlabel('agent')\n",
    "plt.ylabel('wealth')\n",
    "plt.show()\n"
   ]
  }
 ],
 "metadata": {
  "kernelspec": {
   "display_name": "Python 3",
   "language": "python",
   "name": "python3"
  },
  "language_info": {
   "name": "python",
   "version": "3.x"
  }
 },
 "nbformat": 4,
 "nbformat_minor": 2
}
