{
 "cells": [
  {
   "cell_type": "markdown",
   "metadata": {},
   "source": [
    "# Overshoot Depth"
   ]
  },
  {
   "cell_type": "code",
   "execution_count": null,
   "metadata": {},
   "outputs": [],
   "source": [
    "import matplotlib.pyplot as plt\n",
    "from src.metrics import overshoot_depth\n",
    "series = [10, 8, 6, 4, 3, 5, 7]\n",
    "limit = 5\n",
    "depth = overshoot_depth(series, limit)\n",
    "plt.plot(series, marker='o')\n",
    "plt.axhline(limit, color='r', linestyle='--')\n",
    "plt.title(f'Overshoot depth: {depth}')\n",
    "plt.xlabel('time')\n",
    "plt.ylabel('stock level')\n",
    "plt.show()\n"
   ]
  }
 ],
 "metadata": {
  "kernelspec": {
   "display_name": "Python 3",
   "language": "python",
   "name": "python3"
  },
  "language_info": {
   "name": "python",
   "version": "3.x"
  }
 },
 "nbformat": 4,
 "nbformat_minor": 2
}
